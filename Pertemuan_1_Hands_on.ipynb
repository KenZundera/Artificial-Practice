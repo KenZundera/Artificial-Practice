{
  "nbformat": 4,
  "nbformat_minor": 0,
  "metadata": {
    "colab": {
      "provenance": [],
      "collapsed_sections": [
        "rINi8SWYmVfH",
        "dDeH8Pl_ma8Y",
        "PFOsZpGCtHQX"
      ],
      "authorship_tag": "ABX9TyOBJaaeJyU70VTqhlVQkvRF",
      "include_colab_link": true
    },
    "kernelspec": {
      "name": "python3",
      "display_name": "Python 3"
    },
    "language_info": {
      "name": "python"
    }
  },
  "cells": [
    {
      "cell_type": "markdown",
      "metadata": {
        "id": "view-in-github",
        "colab_type": "text"
      },
      "source": [
        "<a href=\"https://colab.research.google.com/github/KenZundera/Artificial-Practice/blob/main/Pertemuan_1_Hands_on.ipynb\" target=\"_parent\"><img src=\"https://colab.research.google.com/assets/colab-badge.svg\" alt=\"Open In Colab\"/></a>"
      ]
    },
    {
      "cell_type": "markdown",
      "source": [
        "## **Tugas 1 - 3 | Praktikum Artifisial**\n",
        "\n",
        "\n",
        "\n"
      ],
      "metadata": {
        "id": "FbNuLCH7kn7K"
      }
    },
    {
      "cell_type": "markdown",
      "source": [
        "## Program 1 - Faktorial"
      ],
      "metadata": {
        "id": "rINi8SWYmVfH"
      }
    },
    {
      "cell_type": "markdown",
      "source": [
        "**Pertama**, dibuat suatu fungsi faktorial yang berisikan iterasi yang dimulai dari 1 hingga n"
      ],
      "metadata": {
        "id": "Q9vXSUeSlFZJ"
      }
    },
    {
      "cell_type": "code",
      "source": [
        "def factorial(n):\n",
        "    result = 1\n",
        "    for i in range(1,n+1):\n",
        "        result = result*i\n",
        "    return result"
      ],
      "metadata": {
        "id": "MI2haQlhk6hS"
      },
      "execution_count": null,
      "outputs": []
    },
    {
      "cell_type": "markdown",
      "source": [
        "**Kedua**, dibuat suatu pendefinisian variabel `num` sebagai batas perulangan"
      ],
      "metadata": {
        "id": "5y5dHjkjlYdY"
      }
    },
    {
      "cell_type": "code",
      "source": [
        "num=6"
      ],
      "metadata": {
        "id": "6Q6WQb8fk-Mo"
      },
      "execution_count": null,
      "outputs": []
    },
    {
      "cell_type": "markdown",
      "source": [
        "**Ketiga**, pemanggilan fungsi faktorial yang menjadikan `num` sebagai batas perulangannya"
      ],
      "metadata": {
        "id": "TKaXdfpYld4H"
      }
    },
    {
      "cell_type": "code",
      "source": [
        "print(\"Factorial of\",num,\"is\", factorial(num))"
      ],
      "metadata": {
        "colab": {
          "base_uri": "https://localhost:8080/"
        },
        "id": "gwJF0nnBk_zw",
        "outputId": "af8debef-b3a8-43c8-eac4-525adbc42d6b"
      },
      "execution_count": null,
      "outputs": [
        {
          "output_type": "stream",
          "name": "stdout",
          "text": [
            "Factorial of 6 is 720\n"
          ]
        }
      ]
    },
    {
      "cell_type": "markdown",
      "source": [],
      "metadata": {
        "id": "eed9F84dl9UZ"
      }
    },
    {
      "cell_type": "markdown",
      "source": [
        "## Program 2 - Fibonacci"
      ],
      "metadata": {
        "id": "dDeH8Pl_ma8Y"
      }
    },
    {
      "cell_type": "markdown",
      "source": [
        "**Pertama**, dibuat suatu fungsi fibonacci yang berisikan iterasi didalam pengkondisian"
      ],
      "metadata": {
        "id": "dC2GBjHkwd5x"
      }
    },
    {
      "cell_type": "code",
      "source": [
        "def Fibonacci(n):\n",
        "    a = 0\n",
        "    b = 1\n",
        "    if n < 0:\n",
        "        print(\"Angka tidak valid\")\n",
        "    elif n == 0:\n",
        "        return a\n",
        "    elif n == 1:\n",
        "        return b\n",
        "    else:\n",
        "        print(a, end=\" \")\n",
        "        print(b, end=\" \")\n",
        "        for i in range(2, n):\n",
        "            c = a + b\n",
        "            a = b\n",
        "            b = c\n",
        "            print(c, end=\" \")\n",
        "        return c"
      ],
      "metadata": {
        "id": "rOJKexPItBTo"
      },
      "execution_count": 11,
      "outputs": []
    },
    {
      "cell_type": "markdown",
      "source": [
        "**Kedua**, variabel `num` diisikan nilai sebagai batas untuk perulangan dan pengkondisian\n",
        "\n"
      ],
      "metadata": {
        "id": "BsKG-VWrwtBw"
      }
    },
    {
      "cell_type": "code",
      "source": [
        "num = 9"
      ],
      "metadata": {
        "id": "iaX9rEJ_tDzH"
      },
      "execution_count": 13,
      "outputs": []
    },
    {
      "cell_type": "markdown",
      "source": [
        "**Ketiga**, dicetak lah suatu string, variabel `num`, dan nilai terakhir dari `num` yang sudah ditentukan"
      ],
      "metadata": {
        "id": "6AKa3WZqw6a3"
      }
    },
    {
      "cell_type": "code",
      "source": [
        "print(\"\\n\\nBilangan fibonacci yang ke\" , num , \"adalah\" , Fibonacci(num))"
      ],
      "metadata": {
        "colab": {
          "base_uri": "https://localhost:8080/"
        },
        "id": "w4g-DMmHtFfA",
        "outputId": "7f3270f0-fff9-4356-dffa-2160f8cc4fdf"
      },
      "execution_count": 16,
      "outputs": [
        {
          "output_type": "stream",
          "name": "stdout",
          "text": [
            "0 1 1 2 3 5 8 13 21 \n",
            "\n",
            "Bilangan fibonacci yang ke 9 adalah 21\n"
          ]
        }
      ]
    },
    {
      "cell_type": "markdown",
      "source": [
        "## Program 3 - Bilangan Prima"
      ],
      "metadata": {
        "id": "PFOsZpGCtHQX"
      }
    },
    {
      "cell_type": "markdown",
      "source": [
        "**Pertama**, dibuat sebuah fungsi penentuan apakah angka yang ditentukan adalah bilangan prima atau bukan dengan pengkondisian"
      ],
      "metadata": {
        "id": "fWrWBWgmxXn5"
      }
    },
    {
      "cell_type": "code",
      "source": [
        "def bilPrima(n):\n",
        "    if n > 1:\n",
        "        for i in range(2,n):\n",
        "            if (n % i) == 0:\n",
        "                print(n,\"bukan bilangan prima\")\n",
        "                break\n",
        "        else:\n",
        "            print(n,\"adalah bilangan prima\")\n",
        "    else:\n",
        "        print(n,\"bukan bilangan prima\")"
      ],
      "metadata": {
        "id": "hP7PCRy2tMN_"
      },
      "execution_count": null,
      "outputs": []
    },
    {
      "cell_type": "markdown",
      "source": [
        "**Kedua**, pemanggilan fungsi `bilPrima` agar fungsi dapat dimulai"
      ],
      "metadata": {
        "id": "JyJlMywBxoRg"
      }
    },
    {
      "cell_type": "code",
      "source": [
        "bilPrima(12)"
      ],
      "metadata": {
        "colab": {
          "base_uri": "https://localhost:8080/"
        },
        "id": "hyuOFkantPmQ",
        "outputId": "b886b4e2-6d6b-4490-ee0e-326655d60a47"
      },
      "execution_count": null,
      "outputs": [
        {
          "output_type": "stream",
          "name": "stdout",
          "text": [
            "12 bukan bilangan prima\n"
          ]
        }
      ]
    }
  ]
}